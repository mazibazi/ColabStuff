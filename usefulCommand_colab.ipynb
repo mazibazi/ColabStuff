{
  "nbformat": 4,
  "nbformat_minor": 0,
  "metadata": {
    "colab": {
      "name": "usefulCommand_colab.ipynb",
      "provenance": [],
      "collapsed_sections": [],
      "authorship_tag": "ABX9TyN8qVhVkzC9BBd3LBscgD4S",
      "include_colab_link": true
    },
    "kernelspec": {
      "name": "python3",
      "display_name": "Python 3"
    },
    "language_info": {
      "name": "python"
    }
  },
  "cells": [
    {
      "cell_type": "markdown",
      "metadata": {
        "id": "view-in-github",
        "colab_type": "text"
      },
      "source": [
        "<a href=\"https://colab.research.google.com/github/mazibazi/ColabStuff/blob/main/usefulCommand_colab.ipynb\" target=\"_parent\"><img src=\"https://colab.research.google.com/assets/colab-badge.svg\" alt=\"Open In Colab\"/></a>"
      ]
    },
    {
      "cell_type": "markdown",
      "source": [
        "# Mounnting Google Drive"
      ],
      "metadata": {
        "id": "n_XuKRkZoJbY"
      }
    },
    {
      "cell_type": "code",
      "execution_count": null,
      "metadata": {
        "id": "JtMsSNx5oA8o"
      },
      "outputs": [],
      "source": [
        "from google.colab import drive\n",
        "drive.mount('/content/gdrive')"
      ]
    },
    {
      "cell_type": "markdown",
      "source": [
        "# Unzip Files"
      ],
      "metadata": {
        "id": "kBePAd4aoeUI"
      }
    },
    {
      "cell_type": "markdown",
      "source": [
        "*   First path in below cell - Your Google Drive file location which you want to Unzip\n",
        "*   Second path in below cell - Path where you want to extract the zip file in Google Drive"
      ],
      "metadata": {
        "id": "0X4RBWHzoEEh"
      }
    },
    {
      "cell_type": "code",
      "source": [
        "!unzip \"/content/intel-image-classification.zip\" -d \"/content/gdrive/MyDrive/dataSet\""
      ],
      "metadata": {
        "id": "mfEX61VSDFVh"
      },
      "execution_count": null,
      "outputs": []
    },
    {
      "cell_type": "markdown",
      "source": [
        "# loading data in Kaggle codes"
      ],
      "metadata": {
        "id": "NsJLeO9FDZpO"
      }
    },
    {
      "cell_type": "markdown",
      "source": [
        "Download kaggle API Token <br>Decent [link](https://www.kaggle.com/general/74235)"
      ],
      "metadata": {
        "id": "3v9BaYVHDZke"
      }
    },
    {
      "cell_type": "code",
      "source": [
        "from google.colab import files\n",
        "\n",
        "uploaded = files.upload()\n",
        "\n",
        "for fn in uploaded.keys():\n",
        "  print('User uploaded file \"{name}\" with length {length} bytes'.format(\n",
        "      name=fn, length=len(uploaded[fn])))\n",
        "  \n",
        "# Then move kaggle.json into the folder where the API expects to find it.\n",
        "!mkdir -p ~/.kaggle/ && mv kaggle.json ~/.kaggle/ && chmod 600 ~/.kaggle/kaggle.json"
      ],
      "metadata": {
        "id": "-NrKjmOUDivt"
      },
      "execution_count": null,
      "outputs": []
    },
    {
      "cell_type": "markdown",
      "source": [
        "in here we can see the list of datasets"
      ],
      "metadata": {
        "id": "-H7eA_xBD3cM"
      }
    },
    {
      "cell_type": "code",
      "source": [
        " ! kaggle datasets list"
      ],
      "metadata": {
        "id": "usUIyVdYD2ML"
      },
      "execution_count": null,
      "outputs": []
    },
    {
      "cell_type": "markdown",
      "source": [
        "download sample datasets"
      ],
      "metadata": {
        "id": "e_C1xU_gEEQ4"
      }
    },
    {
      "cell_type": "code",
      "source": [
        "! kaggle competitions download -c dogs-vs-cats"
      ],
      "metadata": {
        "id": "qo4QF2xaECib"
      },
      "execution_count": null,
      "outputs": []
    },
    {
      "cell_type": "code",
      "source": [
        "! kaggle datasets download -d puneet6060/intel-image-classification"
      ],
      "metadata": {
        "id": "u5D91KDbDlJ1"
      },
      "execution_count": null,
      "outputs": []
    },
    {
      "cell_type": "markdown",
      "source": [
        "unzip is in directory "
      ],
      "metadata": {
        "id": "JVz4Qg4aETjh"
      }
    },
    {
      "cell_type": "code",
      "source": [
        ""
      ],
      "metadata": {
        "id": "ySARyOYcEWEm"
      },
      "execution_count": null,
      "outputs": []
    }
  ]
}